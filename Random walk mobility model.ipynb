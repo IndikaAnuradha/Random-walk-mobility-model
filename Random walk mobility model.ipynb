{
 "cells": [
  {
   "cell_type": "code",
   "execution_count": 2,
   "id": "2ed7a66d",
   "metadata": {},
   "outputs": [
    {
     "name": "stdout",
     "output_type": "stream",
     "text": [
      "Connected to MQTT Broker!\n",
      "Sent to Building/Temperature: Temperature: 27.31°C\n",
      "Sent to Building/Humidity: Humidity: 58.11%\n",
      "Sent to Building/Temperature: Temperature: 19.35°C\n",
      "Sent to Building/Humidity: Humidity: 62.17%\n",
      "Sent to Building/Temperature: Temperature: 12.73°C\n",
      "Sent to Building/Humidity: Humidity: 61.02%\n",
      "Sent to Building/Temperature: Temperature: 14.42°C\n",
      "Sent to Building/Humidity: Humidity: 42.76%\n",
      "Sent to Building/Temperature: Temperature: 12.74°C\n",
      "Sent to Building/Humidity: Humidity: 33.85%\n"
     ]
    }
   ],
   "source": [
    "import random\n",
    "import time\n",
    "from paho.mqtt import client as mqtt_client\n",
    "\n",
    "broker = 'broker.hivemq.com'\n",
    "port = 1883\n",
    "topic1 = \"Building/Temperature\"\n",
    "topic2 = \"Building/Humidity\"\n",
    "# generate client ID with pub prefix randomly\n",
    "client_id = f'python-mqtt-{random.randint(0, 1000)}'\n",
    "username = 'emqx'\n",
    "password = 'public'\n",
    "\n",
    "def connect_mqtt():\n",
    "    def on_connect(client, userdata, flags, rc):\n",
    "        if rc == 0:\n",
    "            print(\"Connected to MQTT Broker!\")\n",
    "        else:\n",
    "            print(\"Failed to connect, return code %d\\n\" % rc)\n",
    "\n",
    "    client = mqtt_client.Client(client_id)\n",
    "    client.username_pw_set(username, password)\n",
    "    client.on_connect = on_connect\n",
    "    client.connect(broker, port)\n",
    "    return client\n",
    "\n",
    "def publish_sensor_data(client, num_messages):\n",
    "    msg_count = 0\n",
    "    while msg_count < num_messages:\n",
    "        time.sleep(1)\n",
    "        # Generate synthetic temperature and humidity data\n",
    "        temperature = round(random.uniform(0, 40), 2)\n",
    "        humidity = round(random.uniform(30, 70), 2)\n",
    "        \n",
    "        # Create and publish messages for both topics\n",
    "        temperature_msg = f\"Temperature: {temperature}°C\"\n",
    "        humidity_msg = f\"Humidity: {humidity}%\"\n",
    "        \n",
    "        result1 = client.publish(topic1, temperature_msg)\n",
    "        result2 = client.publish(topic2, humidity_msg)\n",
    "        \n",
    "        # Check and print the status of message publication for both topics\n",
    "        if result1.rc == mqtt_client.MQTT_ERR_SUCCESS:\n",
    "            print(f\"Sent to {topic1}: {temperature_msg}\")\n",
    "        else:\n",
    "            print(f\"Failed to send to {topic1}\")\n",
    "        \n",
    "        if result2.rc == mqtt_client.MQTT_ERR_SUCCESS:\n",
    "            print(f\"Sent to {topic2}: {humidity_msg}\")\n",
    "        else:\n",
    "            print(f\"Failed to send to {topic2}\")\n",
    "        \n",
    "        msg_count += 1\n",
    "\n",
    "def run():\n",
    "    num_sensor_readings = 5  # Change this to the desired number of readings\n",
    "    client = connect_mqtt()\n",
    "    client.loop_start()\n",
    "    publish_sensor_data(client, num_sensor_readings)\n",
    "\n",
    "if __name__ == '__main__':\n",
    "    run()\n"
   ]
  }
 ],
 "metadata": {
  "kernelspec": {
   "display_name": "Python 3 (ipykernel)",
   "language": "python",
   "name": "python3"
  },
  "language_info": {
   "codemirror_mode": {
    "name": "ipython",
    "version": 3
   },
   "file_extension": ".py",
   "mimetype": "text/x-python",
   "name": "python",
   "nbconvert_exporter": "python",
   "pygments_lexer": "ipython3",
   "version": "3.9.13"
  }
 },
 "nbformat": 4,
 "nbformat_minor": 5
}
